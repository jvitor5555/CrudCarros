{
 "cells": [
  {
   "cell_type": "markdown",
   "metadata": {},
   "source": [
    "Estou criando um site web que permite um CRUD simples, o tema do site vai ser Carros.\n",
    "\n",
    "Estou usando o framework flask"
   ]
  },
  {
   "cell_type": "markdown",
   "metadata": {},
   "source": [
    "Flask: O Flask é o microframework que usamos para criar o backend da aplicação. Ele ajuda a configurar as rotas e a lógica da aplicação.\n",
    "\n",
    "render_template: Usado para renderizar arquivos HTML. O Flask permite que você use arquivos .html na pasta templates/.\n",
    "\n",
    "request: Usado para pegar os dados do frontend (dados de formulários, por exemplo) que são enviados ao backend.\n",
    "\n",
    "jsonify: Ajuda a retornar respostas no formato JSON (útil para o frontend que usa JavaScript).\n",
    "\n",
    "SQLAlchemy: ORM (Object Relational Mapper) que facilita a interação com o banco de dados.\n",
    "\n",
    "os: Biblioteca do Python que nos permite interagir com o sistema de arquivos (por exemplo, para pegar o caminho absoluto de arquivos)."
   ]
  }
 ],
 "metadata": {
  "language_info": {
   "name": "python"
  }
 },
 "nbformat": 4,
 "nbformat_minor": 2
}
